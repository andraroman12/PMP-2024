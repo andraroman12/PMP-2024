{
  "cells": [
    {
      "cell_type": "markdown",
      "metadata": {
        "id": "view-in-github",
        "colab_type": "text"
      },
      "source": [
        "<a href=\"https://colab.research.google.com/github/andraroman12/PMP-2024/blob/main/Lab03/lab03.ipynb\" target=\"_parent\"><img src=\"https://colab.research.google.com/assets/colab-badge.svg\" alt=\"Open In Colab\"/></a>"
      ]
    },
    {
      "cell_type": "code",
      "execution_count": 7,
      "metadata": {
        "id": "zwFnJsE6vjf8",
        "colab": {
          "base_uri": "https://localhost:8080/"
        },
        "outputId": "32edfa51-2928-4c07-cd13-6c63e007070d"
      },
      "outputs": [
        {
          "output_type": "stream",
          "name": "stdout",
          "text": [
            "Scenariul 1: {'O': 1, 'L': 1, 'M': 1}, Probabilitatea ca e-mailul sa fie spam:\n",
            "+------+----------+\n",
            "| S    |   phi(S) |\n",
            "+======+==========+\n",
            "| S(0) |   0.0508 |\n",
            "+------+----------+\n",
            "| S(1) |   0.9492 |\n",
            "+------+----------+\n",
            "Scenariul 2: {'O': 1, 'L': 0, 'M': 1}, Probabilitatea ca e-mailul sa fie spam:\n",
            "+------+----------+\n",
            "| S    |   phi(S) |\n",
            "+======+==========+\n",
            "| S(0) |   0.2308 |\n",
            "+------+----------+\n",
            "| S(1) |   0.7692 |\n",
            "+------+----------+\n",
            "Scenariul 3: {'O': 0, 'L': 1, 'M': 0}, Probabilitatea ca e-mailul sa fie spam:\n",
            "+------+----------+\n",
            "| S    |   phi(S) |\n",
            "+======+==========+\n",
            "| S(0) |   0.8710 |\n",
            "+------+----------+\n",
            "| S(1) |   0.1290 |\n",
            "+------+----------+\n",
            "Scenariul 4: {'O': 0, 'L': 0, 'M': 0}, Probabilitatea ca e-mailul sa fie spam:\n",
            "+------+----------+\n",
            "| S    |   phi(S) |\n",
            "+======+==========+\n",
            "| S(0) |   0.9618 |\n",
            "+------+----------+\n",
            "| S(1) |   0.0382 |\n",
            "+------+----------+\n"
          ]
        }
      ],
      "source": [
        "from pgmpy.models import BayesianNetwork\n",
        "from pgmpy.factors.discrete import TabularCPD\n",
        "from pgmpy.inference import VariableElimination\n",
        "\n",
        "model = BayesianNetwork([\n",
        "    ('S', 'O'),  # S influenteaza O\n",
        "    ('S', 'L'),  # S influenteaza L\n",
        "    ('S', 'M'),  # S influenteaza M\n",
        "    ('L', 'M')   # L influenteaza M\n",
        "])\n",
        "\n",
        "\n",
        "cpd_s = TabularCPD(variable='S', variable_card=2, values=[[0.6], [0.4]])\n",
        "cpd_o = TabularCPD(variable='O', variable_card=2, values=[[0.9, 0.3], [0.1, 0.7]],\n",
        "                   evidence=['S'], evidence_card=[2])\n",
        "cpd_l = TabularCPD(variable='L', variable_card=2, values=[[0.7, 0.2], [0.3, 0.8]],\n",
        "                   evidence=['S'], evidence_card=[2])\n",
        "cpd_m = TabularCPD(variable='M', variable_card=2,\n",
        "                   values=[[0.8, 0.4, 0.5, 0.1], [0.2, 0.6, 0.5, 0.9]],\n",
        "                   evidence=['S', 'L'], evidence_card=[2, 2])\n",
        "\n",
        "\n",
        "model.add_cpds(cpd_s, cpd_o, cpd_l, cpd_m)\n",
        "\n",
        "\n",
        "model.check_model()\n",
        "\n",
        "inference = VariableElimination(model)\n",
        "\n",
        "scenarios = [\n",
        "    {'O': 1, 'L': 1, 'M': 1},\n",
        "    {'O': 1, 'L': 0, 'M': 1},\n",
        "    {'O': 0, 'L': 1, 'M': 0},\n",
        "    {'O': 0, 'L': 0, 'M': 0},\n",
        "]\n",
        "\n",
        "for i, scenario in enumerate(scenarios, 1):\n",
        "    query_result = inference.query(variables=['S'], evidence=scenario)\n",
        "    print(f\"Scenariul {i}: {scenario}, Probabilitatea ca e-mailul sa fie spam:\")\n",
        "    print(query_result)\n"
      ]
    }
  ],
  "metadata": {
    "colab": {
      "name": "Welcome To Colab",
      "toc_visible": true,
      "provenance": [],
      "include_colab_link": true
    },
    "kernelspec": {
      "display_name": "Python 3",
      "name": "python3"
    }
  },
  "nbformat": 4,
  "nbformat_minor": 0
}